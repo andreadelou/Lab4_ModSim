{
 "cells": [
  {
   "cell_type": "markdown",
   "metadata": {},
   "source": [
    "# Ejercicio 4"
   ]
  },
  {
   "cell_type": "markdown",
   "metadata": {},
   "source": [
    "Considere un campo de su interés y defina un problema donde se pueda resolver usando Monte Carlo. Para ello\n",
    "considere decir lo siguiente\n",
    "1. Defina correctamente el problema, dejando claro las suposiciones y datos\n",
    "2. Defina como Monte Carlo puede ayudarle a solucionar dicho problema\n",
    "3. Escriba un script en su lenguaje de programación favorito solucionando el problema\n",
    "4. Analice correctamente los resultados, extrayendo cualquier insight que considere valioso"
   ]
  },
  {
   "cell_type": "markdown",
   "metadata": {},
   "source": [
    "# Problema: Simulación de Tráfico Vehicular"
   ]
  },
  {
   "cell_type": "markdown",
   "metadata": {},
   "source": [
    "1. Definición del Problema:\n",
    "Suposiciones y datos:\n",
    "\n",
    "- Se tiene información sobre los patrones históricos de llegada de vehículos a la intersección durante ciertos intervalos de tiempo.\n",
    "- Se puede modelar el tiempo de duración de cada ciclo del semáforo y los intervalos de tiempo en los que cambia de rojo a verde y viceversa.\n",
    "- Se quiere estimar el tiempo de espera promedio de los vehículos en la intersección durante un período de tiempo determinado."
   ]
  },
  {
   "cell_type": "code",
   "execution_count": 2,
   "metadata": {},
   "outputs": [
    {
     "name": "stdout",
     "output_type": "stream",
     "text": [
      "Tiempo de espera promedio: 3331.5366 segundos\n",
      "Tiempo de espera promedio: 55.52561 minutos\n",
      "Tiempo de espera promedio: 0.9254268333333333 horas\n"
     ]
    }
   ],
   "source": [
    "import random\n",
    "\n",
    "# Parámetros de la simulación\n",
    "num_simulations = 10000\n",
    "total_time = 3600  # Tiempo total de simulación en segundos\n",
    "\n",
    "# Patrones de llegada históricos (por ejemplo, por minuto)\n",
    "arrival_rates = [10, 15, 20, 25, 30, 25, 20, 15, 10, 5, 5, 10]\n",
    "\n",
    "# Simulación de Monte Carlo\n",
    "total_wait_time = 0\n",
    "for _ in range(num_simulations):\n",
    "    wait_time = 0\n",
    "    current_time = 0\n",
    "    while current_time < total_time:\n",
    "        # Generar llegada de vehículo según el patrón histórico\n",
    "        arrival_rate = arrival_rates[current_time // 300]  # Cambio cada 5 minutos\n",
    "        if random.random() < arrival_rate / 60:\n",
    "            # Simular tiempo de espera del vehículo\n",
    "            wait_time += random.randint(20, 120)  # Tiempo de espera en segundos\n",
    "        # Avanzar en el tiempo\n",
    "        current_time += random.randint(10, 30)  # Simular intervalos de tiempo variables\n",
    "    \n",
    "    total_wait_time += wait_time\n",
    "\n",
    "average_wait_time_seconds = total_wait_time / num_simulations\n",
    "average_wait_time_minutes = average_wait_time_seconds / 60\n",
    "average_wait_time_hours = average_wait_time_minutes / 60\n",
    "\n",
    "print(\"Tiempo de espera promedio:\", average_wait_time_seconds, \"segundos\")\n",
    "print(\"Tiempo de espera promedio:\", average_wait_time_minutes, \"minutos\")\n",
    "print(\"Tiempo de espera promedio:\", average_wait_time_hours, \"horas\")\n"
   ]
  }
 ],
 "metadata": {
  "kernelspec": {
   "display_name": ".venv",
   "language": "python",
   "name": "python3"
  },
  "language_info": {
   "codemirror_mode": {
    "name": "ipython",
    "version": 3
   },
   "file_extension": ".py",
   "mimetype": "text/x-python",
   "name": "python",
   "nbconvert_exporter": "python",
   "pygments_lexer": "ipython3",
   "version": "3.9.13"
  },
  "orig_nbformat": 4
 },
 "nbformat": 4,
 "nbformat_minor": 2
}
