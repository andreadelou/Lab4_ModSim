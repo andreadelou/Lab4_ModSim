{
 "cells": [
  {
   "cell_type": "markdown",
   "metadata": {},
   "source": [
    "# Ejercicio 2"
   ]
  },
  {
   "cell_type": "markdown",
   "metadata": {},
   "source": [
    "Estime el precio de una opción call europea utilizando la fórmula de Black-Scholes a través de la simulación Monte\n",
    "Carlo. Para ello considere lo siguiente:\n",
    "1. Implemente la fórmula de Black-Scholes para calcular el precio teórico de la opción.\n",
    "2. Simule las trayectorias del precio de las acciones mediante el movimiento browniano geométrico.\n",
    "3. Calcule el pago de cada camino y promedielos para estimar el precio de la opción."
   ]
  },
  {
   "cell_type": "code",
   "execution_count": 4,
   "metadata": {},
   "outputs": [
    {
     "name": "stdout",
     "output_type": "stream",
     "text": [
      "Collecting scipy\n",
      "  Obtaining dependency information for scipy from https://files.pythonhosted.org/packages/e9/20/2d0561ab54d857365926c5b53538369a7b8d6ccbffaca509305b074028cd/scipy-1.11.2-cp39-cp39-win_amd64.whl.metadata\n",
      "  Using cached scipy-1.11.2-cp39-cp39-win_amd64.whl.metadata (59 kB)\n",
      "Requirement already satisfied: numpy<1.28.0,>=1.21.6 in c:\\users\\andre\\onedrive\\documentos\\github\\lab4_modsim\\.venv\\lib\\site-packages (from scipy) (1.25.2)\n",
      "Using cached scipy-1.11.2-cp39-cp39-win_amd64.whl (44.1 MB)\n",
      "Installing collected packages: scipy\n",
      "Successfully installed scipy-1.11.2\n"
     ]
    }
   ],
   "source": [
    "#!pip install scipy\n",
    "#!pip install numpy"
   ]
  },
  {
   "cell_type": "code",
   "execution_count": 7,
   "metadata": {},
   "outputs": [
    {
     "name": "stdout",
     "output_type": "stream",
     "text": [
      "Precio teórico de la opción de compra: 10.450583572185565\n",
      "Precio estimado de la opción de compra mediante Monte Carlo: 10.412742072257563\n",
      "Diferencia entre precio teórico y estimado: 0.037841499928001454\n"
     ]
    }
   ],
   "source": [
    "import numpy as np\n",
    "from scipy.stats import norm\n",
    "\n",
    "# Parámetros\n",
    "S = 100      # Precio actual de la acción\n",
    "K = 100      # Precio de ejercicio\n",
    "r = 0.05     # Tasa de interés libre de riesgo\n",
    "T = 1.0      # Tiempo de vencimiento\n",
    "sigma = 0.2  # Volatilidad\n",
    "num_simulations = 100000  # Número de simulaciones\n",
    "num_steps = 252  # Número de pasos en la simulación (correspondiente a días de negociación en un año)\n",
    "\n",
    "# Fórmula de Black-Scholes para el precio de una opción de compra\n",
    "def black_scholes_call(S, K, r, T, sigma):\n",
    "    d1 = (np.log(S / K) + (r + 0.5 * sigma**2) * T) / (sigma * np.sqrt(T))\n",
    "    d2 = d1 - sigma * np.sqrt(T)\n",
    "    option_price = S * norm.cdf(d1) - K * np.exp(-r * T) * norm.cdf(d2)\n",
    "    return option_price\n",
    "\n",
    "# Simulación de trayectorias con Movimiento Browniano Geométrico\n",
    "def generate_gbm_paths(S, r, sigma, T, num_simulations, num_steps):\n",
    "    dt = T / num_steps\n",
    "    paths = np.zeros((num_simulations, num_steps + 1))\n",
    "    paths[:, 0] = S\n",
    "    for i in range(num_simulations):\n",
    "        for j in range(1, num_steps + 1):\n",
    "            z = np.random.standard_normal()\n",
    "            paths[i, j] = paths[i, j - 1] * np.exp((r - 0.5 * sigma**2) * dt + sigma * np.sqrt(dt) * z)\n",
    "    return paths\n",
    "\n",
    "# Calcular el precio estimado de la opción usando Monte Carlo\n",
    "def monte_carlo_option_price(paths, K, r, T):\n",
    "    option_payoffs = np.maximum(paths[:, -1] - K, 0)\n",
    "    discount_factor = np.exp(-r * T)\n",
    "    option_price = np.mean(option_payoffs) * discount_factor\n",
    "    return option_price\n",
    "\n",
    "# Calcular el precio teórico de la opción\n",
    "option_price_theoretical = black_scholes_call(S, K, r, T, sigma)\n",
    "print(\"Precio teórico de la opción de compra:\", option_price_theoretical)\n",
    "\n",
    "# Simular trayectorias y calcular el precio de la opción usando Monte Carlo\n",
    "paths = generate_gbm_paths(S, r, sigma, T, num_simulations, num_steps)\n",
    "option_price_monte_carlo = monte_carlo_option_price(paths, K, r, T)\n",
    "print(\"Precio estimado de la opción de compra mediante Monte Carlo:\", option_price_monte_carlo)\n",
    "\n",
    "# Comparar precios teóricos y estimados\n",
    "print(\"Diferencia entre precio teórico y estimado:\", abs(option_price_theoretical - option_price_monte_carlo))\n"
   ]
  }
 ],
 "metadata": {
  "kernelspec": {
   "display_name": ".venv",
   "language": "python",
   "name": "python3"
  },
  "language_info": {
   "codemirror_mode": {
    "name": "ipython",
    "version": 3
   },
   "file_extension": ".py",
   "mimetype": "text/x-python",
   "name": "python",
   "nbconvert_exporter": "python",
   "pygments_lexer": "ipython3",
   "version": "3.9.13"
  },
  "orig_nbformat": 4
 },
 "nbformat": 4,
 "nbformat_minor": 2
}
