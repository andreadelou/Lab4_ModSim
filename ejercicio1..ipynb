{
 "cells": [
  {
   "cell_type": "markdown",
   "metadata": {},
   "source": [
    "# Ejercicio 1"
   ]
  },
  {
   "cell_type": "code",
   "execution_count": 1,
   "metadata": {},
   "outputs": [],
   "source": [
    "# librerias necesarias\n",
    "import random"
   ]
  },
  {
   "cell_type": "markdown",
   "metadata": {},
   "source": [
    "### Ejercicio 1\n",
    "Escoger el comportamiento de nuestro enemigo, este podrá atacar, moverse, defenderse o curarse/usars item"
   ]
  },
  {
   "cell_type": "code",
   "execution_count": 145,
   "metadata": {},
   "outputs": [],
   "source": [
    "def set_action_probs(m, a, d, h):\n",
    "\n",
    "    return {\n",
    "                \"Move\": m,    \n",
    "                \"Attack\": a,  \n",
    "                \"Defend\": d,\n",
    "                \"Heal\": h   \n",
    "            }"
   ]
  },
  {
   "cell_type": "markdown",
   "metadata": {},
   "source": [
    "## Ejercicio 2 y 3\n",
    "Implemente una simulación de Monte Carlo que genere posibles resultados del comportamiento del\n",
    "enemigo durante una serie de turnos.\n",
    "\n",
    "Analice la distribución de los posibles resultados y determine la probabilidad de éxito o fracaso del jugador."
   ]
  },
  {
   "cell_type": "code",
   "execution_count": 141,
   "metadata": {},
   "outputs": [],
   "source": [
    "def simulate_enemy_behavior(num_turns, action_probabilities):\n",
    "\n",
    "    # Ejercicio 2\n",
    "    successes = 0\n",
    "    failures = 0\n",
    "    \n",
    "    for i in range(num_turns):\n",
    "        \n",
    "        # Escoger una accion random por probabilidades \n",
    "        enemy_action = random.choices(list(action_probabilities.keys()), action_probabilities.values())[0]\n",
    "        \n",
    "        # Analizar el turno\n",
    "        if enemy_action == \"Attack\" or enemy_action == \"Defend\":\n",
    "            failures += 1\n",
    "        else:\n",
    "            successes += 1\n",
    "    \n",
    "    # Ejercicio 3\n",
    "    success_probability = successes / num_turns\n",
    "    failure_probability = failures / num_turns\n",
    "    \n",
    "    return success_probability, failure_probability"
   ]
  },
  {
   "cell_type": "code",
   "execution_count": 151,
   "metadata": {},
   "outputs": [
    {
     "name": "stdout",
     "output_type": "stream",
     "text": [
      "Situaciones de éxito: 3998.93\n",
      "Situaciones de fracaso: 6001.07\n",
      " \n",
      "Probabilidad de éxito: 0.40\n",
      "Probabilidad de fracaso: 0.60\n"
     ]
    }
   ],
   "source": [
    "# generar probabilidades\n",
    "action_probabilities = set_action_probs(0.1, 0.5, 0.1, 0.3)\n",
    "\n",
    "def simulation(action_probabilities):\n",
    "    # Paremtros para la simulacion\n",
    "    num_iterations = 10000\n",
    "    num_turns_per_iteration = 15\n",
    "\n",
    "    avg_success_prob = 0\n",
    "    avg_failure_prob = 0\n",
    "\n",
    "    for _ in range(num_iterations):\n",
    "        success_prob, failure_prob = simulate_enemy_behavior(num_turns_per_iteration, action_probabilities)\n",
    "        avg_success_prob += success_prob\n",
    "        avg_failure_prob += failure_prob\n",
    "\n",
    "    print(f\"Situaciones de éxito: {avg_success_prob:.2f}\")\n",
    "    print(f\"Situaciones de fracaso: {avg_failure_prob:.2f}\")\n",
    "\n",
    "    avg_success_prob /= num_iterations\n",
    "    avg_failure_prob /= num_iterations\n",
    "    print(f\"\\nProbabilidad de éxito: {avg_success_prob:.2f}\")\n",
    "    print(f\"Probabilidad de fracaso: {avg_failure_prob:.2f}\\n\")\n",
    "    \n",
    "\n",
    "simulation(action_probabilities)"
   ]
  },
  {
   "cell_type": "markdown",
   "metadata": {},
   "source": [
    "## Ejercicio 4\n",
    "Ajuste las reglas y los parámetros para explorar diferentes estrategias y resultados de los jugadores."
   ]
  },
  {
   "cell_type": "code",
   "execution_count": 152,
   "metadata": {},
   "outputs": [
    {
     "name": "stdout",
     "output_type": "stream",
     "text": [
      "Situaciones de éxito: 5990.60\n",
      "Situaciones de fracaso: 4009.40\n",
      " \n",
      "Probabilidad de éxito: 0.60\n",
      "Probabilidad de fracaso: 0.40\n",
      "Situaciones de éxito: 1982.27\n",
      "Situaciones de fracaso: 8017.73\n",
      " \n",
      "Probabilidad de éxito: 0.20\n",
      "Probabilidad de fracaso: 0.80\n",
      "Situaciones de éxito: 8011.47\n",
      "Situaciones de fracaso: 1988.53\n",
      " \n",
      "Probabilidad de éxito: 0.80\n",
      "Probabilidad de fracaso: 0.20\n"
     ]
    }
   ],
   "source": [
    "# Explorar diferentes probabilidades\n",
    "\n",
    "# generar probabilidades\n",
    "action_probabilities = set_action_probs(0.3, 0.3, 0.1, 0.3)\n",
    "simulation(action_probabilities)\n",
    "\n",
    "# generar probabilidades\n",
    "action_probabilities = set_action_probs(0.1, 0.7, 0.1, 0.1)\n",
    "simulation(action_probabilities)\n",
    "\n",
    "# generar probabilidades\n",
    "action_probabilities = set_action_probs(0.4, 0.1, 0.1, 0.4)\n",
    "simulation(action_probabilities)"
   ]
  }
 ],
 "metadata": {
  "kernelspec": {
   "display_name": "Python 3",
   "language": "python",
   "name": "python3"
  },
  "language_info": {
   "codemirror_mode": {
    "name": "ipython",
    "version": 3
   },
   "file_extension": ".py",
   "mimetype": "text/x-python",
   "name": "python",
   "nbconvert_exporter": "python",
   "pygments_lexer": "ipython3",
   "version": "3.11.3"
  },
  "orig_nbformat": 4
 },
 "nbformat": 4,
 "nbformat_minor": 2
}
